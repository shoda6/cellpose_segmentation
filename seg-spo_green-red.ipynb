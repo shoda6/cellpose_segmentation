{
 "cells": [
  {
   "cell_type": "code",
   "execution_count": 1,
   "metadata": {},
   "outputs": [],
   "source": [
    "# activate conda environment\n",
    "# conda activate cellpose\n",
    "# the version is 3.8.12"
   ]
  },
  {
   "cell_type": "code",
   "execution_count": 2,
   "metadata": {},
   "outputs": [],
   "source": [
    "import os\n",
    "import subprocess\n",
    "from cellpose import models, io\n",
    "from glob import glob\n",
    "import matplotlib.pyplot as plt\n",
    "import cv2\n",
    "import numpy as np\n",
    "from tqdm import tqdm"
   ]
  },
  {
   "cell_type": "code",
   "execution_count": 3,
   "metadata": {},
   "outputs": [],
   "source": [
    "def crop_roi(path_img, path_mask, path_outdir, size=100, sum=False):\n",
    "    #画像の読み込み\n",
    "    cv2_img = cv2.imread(path_img)\n",
    "    cv2_mask = path_mask\n",
    "    lower_limit = 1\n",
    "    upper_limit = int(np.max(cv2_mask) + 1)\n",
    "    \n",
    "    path_outdir_bitwise = os.path.join(path_outdir, \"bitwise_image\")\n",
    "    os.makedirs(path_outdir_bitwise, exist_ok=True)\n",
    "    \n",
    "    path_outdir_gray = os.path.join(path_outdir, \"gray_image\")\n",
    "    os.makedirs(path_outdir_gray, exist_ok=True)\n",
    "    \n",
    "    path_outdir_crop = os.path.join(path_outdir, \"crop_image\")\n",
    "    os.makedirs(path_outdir_crop, exist_ok=True)\n",
    "    \n",
    "    print(\"===\", path_img, \"===\")\n",
    "    \n",
    "    for threshold in tqdm(range(lower_limit, upper_limit)):\n",
    "        mask = cv2.inRange(cv2_mask, threshold, threshold)\n",
    "        if mask.sum() == 0:\n",
    "            continue\n",
    "        else:\n",
    "            binary_image = mask.astype(np.uint8)\n",
    "            \n",
    "            # マスク画像の輪郭を修正\n",
    "            kernel = cv2.getStructuringElement(cv2.MORPH_ELLIPSE, (9, 9))\n",
    "            dilated_image = cv2.dilate(binary_image, kernel, iterations=1)\n",
    "            closed_image = cv2.morphologyEx(dilated_image, cv2.MORPH_CLOSE, kernel)\n",
    "            \n",
    "            cv2_img_bitwise = cv2.bitwise_and(cv2_img, cv2_img, mask=closed_image)         \n",
    "            \n",
    "            contours, _ = cv2.findContours(closed_image, cv2.RETR_EXTERNAL, cv2.CHAIN_APPROX_SIMPLE)\n",
    "            \n",
    "            for index, contour in enumerate(contours):\n",
    "                # # ROIを作成\n",
    "                # x, y, w, h = cv2.boundingRect(contour)\n",
    "                # roi = cv2_img[y:y+h, x:x+w]\n",
    "\n",
    "                # ROIの重心を計算\n",
    "                # 輪郭が存在するか確認\n",
    "                M = cv2.moments(contour)\n",
    "                if M['m00'] == 0:\n",
    "                    continue    \n",
    "                else:\n",
    "                    cx = int(M['m10'] / M['m00'])\n",
    "                    cy = int(M['m01'] / M['m00'])\n",
    "\n",
    "                # 重心から+/- 100 ピクセルの正方形領域を切り抜く\n",
    "                size = size\n",
    "                height, width, _ = cv2_img_bitwise.shape\n",
    "                \n",
    "                # CellPoseでsegmentした領域でcropした画像を保存する\n",
    "                crop_region_bitwise = cv2_img_bitwise[max(0, cy-size):min(cy+size, height), max(0, cx-size):min(cx+size, width)]\n",
    "                basename_img = os.path.basename(path_img).split(\".\")[0]\n",
    "                output_path = \"crop_\"+ str(basename_img) +\"_\"+ str(threshold) +\"_\"+ str(index) + \"_crop_region_bitwise.png\"\n",
    "                cv2.imwrite(os.path.join(path_outdir_bitwise, output_path), crop_region_bitwise)\n",
    "                # 赤の膜だけを一つのフォルダにまとめたければ\n",
    "                if sum:\n",
    "                    path_sum_outdir = os.path.join(os.path.dirname(path_outdir), \"sum_bitwise_image\")\n",
    "                    if not os.path.exists(path_sum_outdir):\n",
    "                        os.makedirs(path_sum_outdir)\n",
    "                    \n",
    "                    cv2.imwrite(os.path.join(path_sum_outdir, output_path), crop_region_bitwise)\n",
    "                \n",
    "                # gray scaleの画像も保存する\n",
    "                cv2_img_gray_bitwise = cv2.cvtColor(cv2_img_bitwise, cv2.COLOR_BGR2GRAY)\n",
    "                crop_region_gray = cv2_img_gray_bitwise[max(0, cy-size):min(cy+size, height), max(0, cx-size):min(cx+size, width)]\n",
    "                output_path_gray = \"crop_\"+ str(basename_img) +\"_\"+ str(threshold) +\"_\"+ str(index) + \"_crop_region_gray.png\"\n",
    "                cv2.imwrite(os.path.join(path_outdir_gray, output_path_gray), crop_region_gray)\n",
    "                \n",
    "                # cropした画像を保存する\n",
    "                crop_region = cv2_img[max(0, cy-size):min(cy+size, height), max(0, cx-size):min(cx+size, width)]\n",
    "                output_path = \"crop_\"+ str(basename_img) +\"_\"+ str(threshold) +\"_\"+ str(index) + \"_crop_region.png\"\n",
    "                cv2.imwrite(os.path.join(path_outdir_crop, output_path), crop_region)"
   ]
  },
  {
   "cell_type": "code",
   "execution_count": 39,
   "metadata": {},
   "outputs": [],
   "source": [
    "# 明視野画像のあるディレクトリのパスを指定\n",
    "dir_subdir = \"Project002_YSIY1475_without-IAA\"\n",
    "\n",
    "dir_date_meta = \"20231221_thunder_YSIY1475_YSIY944_spo_6hr-12hr\"\n",
    "\n",
    "path_to_indir = os.path.join(\"/mnt/g\", dir_date_meta, dir_subdir)\n",
    "\n",
    "path_to_outdir = os.path.join(path_to_indir, \"cellpose_segmentation\")\n",
    "if not os.path.exists(path_to_outdir):\n",
    "    os.makedirs(path_to_outdir)\n",
    "\n",
    "# path_to_model = \"cyto\"\n",
    "# model = models.CellposeModel(model_type='cyto', gpu=True)\n",
    "\n",
    "model_path = \"/mnt/d/200_GitHub_Repository/cellpose_segmentation/CP_Sporulation_20240208_lr01_wd00001_nepo100\"\n",
    "model = models.CellposeModel(pretrained_model=model_path, gpu=True)"
   ]
  },
  {
   "cell_type": "code",
   "execution_count": 40,
   "metadata": {},
   "outputs": [],
   "source": [
    "imgs = []\n",
    "path_to_indir = path_to_indir\n",
    "list_of_imgs = glob(os.path.join(path_to_indir, \"Image*_ch01.tif\"))\n",
    "list_of_imgs.sort()\n",
    "num_of_imgs = len(list_of_imgs)\n",
    "\n",
    "for img_path in list_of_imgs:\n",
    "    imgs.append(io.imread(filename=img_path))\n",
    "    \n",
    "    \n",
    "result = model.eval(x=imgs,\n",
    "                    diameter=120,\n",
    "                    channels=[0, 0],)"
   ]
  },
  {
   "cell_type": "code",
   "execution_count": 41,
   "metadata": {},
   "outputs": [
    {
     "data": {
      "image/png": "[encoded data removed]",
      "text/plain": [
       "<Figure size 1000x1000 with 14 Axes>"
      ]
     },
     "metadata": {},
     "output_type": "display_data"
    }
   ],
   "source": [
    "fig, axs = [],[]\n",
    "fig, axs = plt.subplots(num_of_imgs,1, figsize=(10,10))\n",
    "plt.rcParams[\"font.size\"] =5\n",
    "for i in range(num_of_imgs):\n",
    "    axs[i].imshow(result[0][i])"
   ]
  },
  {
   "cell_type": "code",
   "execution_count": 42,
   "metadata": {},
   "outputs": [],
   "source": [
    "for i in range(num_of_imgs):\n",
    "    file_name = os.path.basename(list_of_imgs[i]).split(\".\")[0]\n",
    "    io.masks_flows_to_seg(images=imgs[i], masks=result[0][i], \n",
    "                          flows=result[1][i], \n",
    "                          diams=None, \n",
    "                          file_names=os.path.join(path_to_outdir, file_name)\n",
    "    )\n",
    "    \n",
    "    io.save_masks(images=imgs[i], masks=result[0][i],\n",
    "                  flows=result[1][i], \n",
    "                  file_names = os.path.join(path_to_outdir, file_name)\n",
    "    )\n",
    "    io.save_rois(masks=result[0][i],\n",
    "                file_name = os.path.join(path_to_outdir, file_name)\n",
    "    )"
   ]
  },
  {
   "cell_type": "code",
   "execution_count": 43,
   "metadata": {},
   "outputs": [
    {
     "name": "stdout",
     "output_type": "stream",
     "text": [
      "=== /mnt/g/20231221_thunder_YSIY1475_YSIY944_spo_6hr-12hr/Project002_YSIY1475_without-IAA/Image001_420min.tif ===\n"
     ]
    },
    {
     "name": "stderr",
     "output_type": "stream",
     "text": [
      "100%|██████████| 114/114 [00:10<00:00, 10.84it/s]\n"
     ]
    },
    {
     "name": "stdout",
     "output_type": "stream",
     "text": [
      "=== /mnt/g/20231221_thunder_YSIY1475_YSIY944_spo_6hr-12hr/Project002_YSIY1475_without-IAA/Series002_420min_Lng_SVCC_Processed001_ch00.tif ===\n"
     ]
    },
    {
     "name": "stderr",
     "output_type": "stream",
     "text": [
      "100%|██████████| 114/114 [00:07<00:00, 14.99it/s]\n"
     ]
    },
    {
     "name": "stdout",
     "output_type": "stream",
     "text": [
      "=== /mnt/g/20231221_thunder_YSIY1475_YSIY944_spo_6hr-12hr/Project002_YSIY1475_without-IAA/Image001_420min_ch00.tif ===\n"
     ]
    },
    {
     "name": "stderr",
     "output_type": "stream",
     "text": [
      "100%|██████████| 49/49 [00:04<00:00, 10.79it/s]\n"
     ]
    },
    {
     "name": "stdout",
     "output_type": "stream",
     "text": [
      "=== /mnt/g/20231221_thunder_YSIY1475_YSIY944_spo_6hr-12hr/Project002_YSIY1475_without-IAA/Series004_420min_Lng_SVCC_Processed001_ch00.tif ===\n"
     ]
    },
    {
     "name": "stderr",
     "output_type": "stream",
     "text": [
      "100%|██████████| 49/49 [00:02<00:00, 23.01it/s]\n"
     ]
    },
    {
     "name": "stdout",
     "output_type": "stream",
     "text": [
      "=== /mnt/g/20231221_thunder_YSIY1475_YSIY944_spo_6hr-12hr/Project002_YSIY1475_without-IAA/Image001_420min_ch01.tif ===\n"
     ]
    },
    {
     "name": "stderr",
     "output_type": "stream",
     "text": [
      "100%|██████████| 70/70 [00:05<00:00, 12.13it/s]\n"
     ]
    },
    {
     "name": "stdout",
     "output_type": "stream",
     "text": [
      "=== /mnt/g/20231221_thunder_YSIY1475_YSIY944_spo_6hr-12hr/Project002_YSIY1475_without-IAA/Series006_480min_Lng_SVCC_Processed001_ch00.tif ===\n"
     ]
    },
    {
     "name": "stderr",
     "output_type": "stream",
     "text": [
      "100%|██████████| 70/70 [00:05<00:00, 12.70it/s]\n"
     ]
    },
    {
     "name": "stdout",
     "output_type": "stream",
     "text": [
      "=== /mnt/g/20231221_thunder_YSIY1475_YSIY944_spo_6hr-12hr/Project002_YSIY1475_without-IAA/Image003_420min.tif ===\n"
     ]
    },
    {
     "name": "stderr",
     "output_type": "stream",
     "text": [
      "100%|██████████| 95/95 [00:09<00:00, 10.37it/s]\n"
     ]
    },
    {
     "name": "stdout",
     "output_type": "stream",
     "text": [
      "=== /mnt/g/20231221_thunder_YSIY1475_YSIY944_spo_6hr-12hr/Project002_YSIY1475_without-IAA/Series008_540min_Lng_SVCC_Processed001_ch00.tif ===\n"
     ]
    },
    {
     "name": "stderr",
     "output_type": "stream",
     "text": [
      "100%|██████████| 95/95 [00:07<00:00, 13.52it/s]\n"
     ]
    },
    {
     "name": "stdout",
     "output_type": "stream",
     "text": [
      "=== /mnt/g/20231221_thunder_YSIY1475_YSIY944_spo_6hr-12hr/Project002_YSIY1475_without-IAA/Image003_420min_ch00.tif ===\n"
     ]
    },
    {
     "name": "stderr",
     "output_type": "stream",
     "text": [
      "100%|██████████| 103/103 [00:07<00:00, 14.55it/s]\n"
     ]
    },
    {
     "name": "stdout",
     "output_type": "stream",
     "text": [
      "=== /mnt/g/20231221_thunder_YSIY1475_YSIY944_spo_6hr-12hr/Project002_YSIY1475_without-IAA/Series010_540min_Lng_SVCC_Processed001_ch00.tif ===\n"
     ]
    },
    {
     "name": "stderr",
     "output_type": "stream",
     "text": [
      "100%|██████████| 103/103 [00:07<00:00, 14.52it/s]\n"
     ]
    },
    {
     "name": "stdout",
     "output_type": "stream",
     "text": [
      "=== /mnt/g/20231221_thunder_YSIY1475_YSIY944_spo_6hr-12hr/Project002_YSIY1475_without-IAA/Image003_420min_ch01.tif ===\n"
     ]
    },
    {
     "name": "stderr",
     "output_type": "stream",
     "text": [
      "100%|██████████| 85/85 [00:06<00:00, 12.27it/s]\n"
     ]
    },
    {
     "name": "stdout",
     "output_type": "stream",
     "text": [
      "=== /mnt/g/20231221_thunder_YSIY1475_YSIY944_spo_6hr-12hr/Project002_YSIY1475_without-IAA/Series012_600min_Lng_SVCC_Processed001_ch00.tif ===\n"
     ]
    },
    {
     "name": "stderr",
     "output_type": "stream",
     "text": [
      "100%|██████████| 85/85 [00:06<00:00, 13.64it/s]\n"
     ]
    },
    {
     "name": "stdout",
     "output_type": "stream",
     "text": [
      "=== /mnt/g/20231221_thunder_YSIY1475_YSIY944_spo_6hr-12hr/Project002_YSIY1475_without-IAA/Image005_480min.tif ===\n"
     ]
    },
    {
     "name": "stderr",
     "output_type": "stream",
     "text": [
      "100%|██████████| 136/136 [00:11<00:00, 11.80it/s]\n"
     ]
    },
    {
     "name": "stdout",
     "output_type": "stream",
     "text": [
      "=== /mnt/g/20231221_thunder_YSIY1475_YSIY944_spo_6hr-12hr/Project002_YSIY1475_without-IAA/Series014_600min_Lng_SVCC_Processed001_ch00.tif ===\n"
     ]
    },
    {
     "name": "stderr",
     "output_type": "stream",
     "text": [
      "100%|██████████| 136/136 [00:08<00:00, 15.94it/s]\n"
     ]
    },
    {
     "name": "stdout",
     "output_type": "stream",
     "text": [
      "=== /mnt/g/20231221_thunder_YSIY1475_YSIY944_spo_6hr-12hr/Project002_YSIY1475_without-IAA/Image005_480min_ch00.tif ===\n"
     ]
    },
    {
     "name": "stderr",
     "output_type": "stream",
     "text": [
      "100%|██████████| 104/104 [00:09<00:00, 10.64it/s]\n"
     ]
    },
    {
     "name": "stdout",
     "output_type": "stream",
     "text": [
      "=== /mnt/g/20231221_thunder_YSIY1475_YSIY944_spo_6hr-12hr/Project002_YSIY1475_without-IAA/Series016_600min_Lng_SVCC_Processed001_ch00.tif ===\n"
     ]
    },
    {
     "name": "stderr",
     "output_type": "stream",
     "text": [
      "100%|██████████| 104/104 [00:07<00:00, 14.67it/s]\n"
     ]
    },
    {
     "name": "stdout",
     "output_type": "stream",
     "text": [
      "=== /mnt/g/20231221_thunder_YSIY1475_YSIY944_spo_6hr-12hr/Project002_YSIY1475_without-IAA/Image005_480min_ch01.tif ===\n"
     ]
    },
    {
     "name": "stderr",
     "output_type": "stream",
     "text": [
      "100%|██████████| 71/71 [00:05<00:00, 12.17it/s]\n"
     ]
    },
    {
     "name": "stdout",
     "output_type": "stream",
     "text": [
      "=== /mnt/g/20231221_thunder_YSIY1475_YSIY944_spo_6hr-12hr/Project002_YSIY1475_without-IAA/Series018_660min_Lng_SVCC_Processed001_ch00.tif ===\n"
     ]
    },
    {
     "name": "stderr",
     "output_type": "stream",
     "text": [
      "100%|██████████| 71/71 [00:05<00:00, 12.45it/s]\n"
     ]
    },
    {
     "name": "stdout",
     "output_type": "stream",
     "text": [
      "=== /mnt/g/20231221_thunder_YSIY1475_YSIY944_spo_6hr-12hr/Project002_YSIY1475_without-IAA/Image007_540min.tif ===\n"
     ]
    },
    {
     "name": "stderr",
     "output_type": "stream",
     "text": [
      "100%|██████████| 90/90 [00:06<00:00, 12.93it/s]\n"
     ]
    },
    {
     "name": "stdout",
     "output_type": "stream",
     "text": [
      "=== /mnt/g/20231221_thunder_YSIY1475_YSIY944_spo_6hr-12hr/Project002_YSIY1475_without-IAA/Series020_660min_Lng_SVCC_Processed001_ch00.tif ===\n"
     ]
    },
    {
     "name": "stderr",
     "output_type": "stream",
     "text": [
      "100%|██████████| 90/90 [00:08<00:00, 10.22it/s]\n"
     ]
    },
    {
     "name": "stdout",
     "output_type": "stream",
     "text": [
      "=== /mnt/g/20231221_thunder_YSIY1475_YSIY944_spo_6hr-12hr/Project002_YSIY1475_without-IAA/Image007_540min_ch00.tif ===\n"
     ]
    },
    {
     "name": "stderr",
     "output_type": "stream",
     "text": [
      "100%|██████████| 119/119 [00:08<00:00, 14.35it/s]\n"
     ]
    },
    {
     "name": "stdout",
     "output_type": "stream",
     "text": [
      "=== /mnt/g/20231221_thunder_YSIY1475_YSIY944_spo_6hr-12hr/Project002_YSIY1475_without-IAA/Series022_660min_Lng_SVCC_Processed001_ch00.tif ===\n"
     ]
    },
    {
     "name": "stderr",
     "output_type": "stream",
     "text": [
      "100%|██████████| 119/119 [00:10<00:00, 11.51it/s]\n"
     ]
    },
    {
     "name": "stdout",
     "output_type": "stream",
     "text": [
      "=== /mnt/g/20231221_thunder_YSIY1475_YSIY944_spo_6hr-12hr/Project002_YSIY1475_without-IAA/Image007_540min_ch01.tif ===\n"
     ]
    },
    {
     "name": "stderr",
     "output_type": "stream",
     "text": [
      "100%|██████████| 72/72 [00:05<00:00, 13.00it/s]\n"
     ]
    },
    {
     "name": "stdout",
     "output_type": "stream",
     "text": [
      "=== /mnt/g/20231221_thunder_YSIY1475_YSIY944_spo_6hr-12hr/Project002_YSIY1475_without-IAA/Series024_720min_Lng_SVCC_Processed001_ch00.tif ===\n"
     ]
    },
    {
     "name": "stderr",
     "output_type": "stream",
     "text": [
      "100%|██████████| 72/72 [00:03<00:00, 22.21it/s]\n"
     ]
    },
    {
     "name": "stdout",
     "output_type": "stream",
     "text": [
      "=== /mnt/g/20231221_thunder_YSIY1475_YSIY944_spo_6hr-12hr/Project002_YSIY1475_without-IAA/Image009_540min.tif ===\n"
     ]
    },
    {
     "name": "stderr",
     "output_type": "stream",
     "text": [
      "100%|██████████| 66/66 [00:03<00:00, 19.47it/s]\n"
     ]
    },
    {
     "name": "stdout",
     "output_type": "stream",
     "text": [
      "=== /mnt/g/20231221_thunder_YSIY1475_YSIY944_spo_6hr-12hr/Project002_YSIY1475_without-IAA/Series026_720min_Lng_SVCC_Processed001_ch00.tif ===\n"
     ]
    },
    {
     "name": "stderr",
     "output_type": "stream",
     "text": [
      "100%|██████████| 66/66 [00:06<00:00, 10.37it/s]\n"
     ]
    },
    {
     "name": "stdout",
     "output_type": "stream",
     "text": [
      "=== /mnt/g/20231221_thunder_YSIY1475_YSIY944_spo_6hr-12hr/Project002_YSIY1475_without-IAA/Image009_540min_ch00.tif ===\n"
     ]
    },
    {
     "name": "stderr",
     "output_type": "stream",
     "text": [
      "100%|██████████| 34/34 [00:01<00:00, 21.34it/s]\n"
     ]
    },
    {
     "name": "stdout",
     "output_type": "stream",
     "text": [
      "=== /mnt/g/20231221_thunder_YSIY1475_YSIY944_spo_6hr-12hr/Project002_YSIY1475_without-IAA/Series028_720min_Lng_SVCC_Processed001_ch00.tif ===\n"
     ]
    },
    {
     "name": "stderr",
     "output_type": "stream",
     "text": [
      "100%|██████████| 34/34 [00:01<00:00, 24.16it/s]\n"
     ]
    }
   ],
   "source": [
    "# マスク画像のパスのリストを取得\n",
    "common_name_mask = \"*_cp_masks.png\"\n",
    "list_of_masks = glob(os.path.join(path_to_outdir, common_name_mask))\n",
    "list_of_masks.sort()\n",
    "\n",
    "# 明視野画像のパスのリストを取得\n",
    "common_name_bf = \"Image*.tif\"\n",
    "list_of_bfs = glob(os.path.join(path_to_indir, common_name_bf))\n",
    "list_of_bfs.sort()\n",
    "\n",
    "# Merge画像のパスのリストを取得\n",
    "common_name_merges = \"Series*_Processed001.tif\"\n",
    "list_of_merges = glob(os.path.join(path_to_indir, common_name_merges))\n",
    "list_of_merges.sort()\n",
    "\n",
    "# ch00画像のパスのリストを取得\n",
    "common_name_ch00 = \"Series*_Processed001_ch00.tif\"\n",
    "list_of_ch00 = glob(os.path.join(path_to_indir, common_name_ch00)) \n",
    "list_of_ch00.sort()\n",
    "\n",
    "# ch01画像のパスのリストを取得\n",
    "common_name_ch01 = \"Series*_Processed001_ch01.tif\"\n",
    "list_of_ch01 = glob(os.path.join(path_to_indir, common_name_ch01))\n",
    "list_of_ch01.sort()\n",
    "\n",
    "for index, i_mask in enumerate(list_of_masks):\n",
    "    # cv2を使ってマスク画像を読み込む\n",
    "    mask_array = cv2.imread(i_mask, cv2.IMREAD_UNCHANGED)\n",
    "    \n",
    "    # まずはbfの画像からROIを切り抜く\n",
    "    if len(list_of_bfs) != 0:\n",
    "        path_img = list_of_bfs[index]\n",
    "        name_outdir = os.path.basename(path_img).split(\".\")[0]\n",
    "        path_outdir = os.path.join(path_to_outdir, \"crop_roi_\" + name_outdir)    \n",
    "        crop_roi(path_img, mask_array, path_outdir, size=100, sum=False)\n",
    "    \n",
    "    # mergeの画像からROIを切り抜く\n",
    "    if len(list_of_merges) != 0:\n",
    "        path_img = list_of_merges[index]\n",
    "        name_outdir = os.path.basename(path_img).split(\".\")[0]\n",
    "        path_outdir = os.path.join(path_to_outdir, \"crop_roi_\" + name_outdir)\n",
    "        crop_roi(path_img, mask_array, path_outdir, size=100, sum=False)\n",
    "\n",
    "    # ch00の画像からROIを切り抜く\n",
    "    if len(list_of_ch00) != 0:\n",
    "        path_img = list_of_ch00[index]\n",
    "        name_outdir = os.path.basename(path_img).split(\".\")[0]\n",
    "        path_outdir = os.path.join(path_to_outdir, \"crop_roi_\" + name_outdir)\n",
    "        crop_roi(path_img, mask_array, path_outdir, size=100, sum=False)\n",
    "    \n",
    "    # ch01の画像からROIを切り抜く\n",
    "    if len(list_of_ch01) != 0:        \n",
    "        path_img = list_of_ch01[index]\n",
    "        name_outdir = os.path.basename(path_img).split(\".\")[0]\n",
    "        path_outdir = os.path.join(path_to_outdir, \"crop_roi_\" + name_outdir)\n",
    "        crop_roi(path_img, mask_array, path_outdir, size=100, sum=True)\n",
    "\n",
    "\n"
   ]
  }
 ],
 "metadata": {
  "kernelspec": {
   "display_name": "cellpose",
   "language": "python",
   "name": "python3"
  },
  "language_info": {
   "codemirror_mode": {
    "name": "ipython",
    "version": 3
   },
   "file_extension": ".py",
   "mimetype": "text/x-python",
   "name": "python",
   "nbconvert_exporter": "python",
   "pygments_lexer": "ipython3",
   "version": "3.8.12"
  }
 },
 "nbformat": 4,
 "nbformat_minor": 2
}
