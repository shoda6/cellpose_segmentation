{
 "cells": [
  {
   "cell_type": "code",
   "execution_count": 1,
   "metadata": {},
   "outputs": [],
   "source": [
    "import os\n",
    "import subprocess\n",
    "from glob import glob\n",
    "import matplotlib.pyplot as plt\n",
    "import cv2"
   ]
  },
  {
   "cell_type": "code",
   "execution_count": 4,
   "metadata": {},
   "outputs": [
    {
     "name": "stderr",
     "output_type": "stream",
     "text": [
      "[ WARN:0@69.666] global loadsave.cpp:248 findDecoder imread_('/Image001_ch02_cp_masks.png'): can't open/read file: check file path/integrity\n",
      "[ WARN:0@69.667] global loadsave.cpp:248 findDecoder imread_('/Image001_ch01.tif'): can't open/read file: check file path/integrity\n"
     ]
    }
   ],
   "source": [
    "# 輝度値の違うマスク画像の読み込み\n",
    "# 画像のパスを取得\n",
    "path_base = \"/mnt/20231120_thuneder_YSIY1475_withoutIAA_withIAA-at0hr_withIAA-at6hr_sporulation-ratio/Project001_YSIY1475_withIAA_at0hr_sporatio\"\n",
    "path_mask = \"/Image001_ch02_cp_masks.png\"\n",
    "path_mask = os.path.join(path_base, path_mask)\n",
    "cv2_mask = cv2.imread(path_mask)\n",
    "\n",
    "#　cropしたい画像のパスを取得\n",
    "path_img = \"/Image001_ch01.tif\"\n",
    "path_img = os.path.join(path_base, path_img)\n",
    "cv2_img = cv2.imread(path_img)"
   ]
  },
  {
   "cell_type": "code",
   "execution_count": 5,
   "metadata": {},
   "outputs": [
    {
     "ename": "AttributeError",
     "evalue": "'NoneType' object has no attribute 'ravel'",
     "output_type": "error",
     "traceback": [
      "\u001b[0;31m---------------------------------------------------------------------------\u001b[0m",
      "\u001b[0;31mAttributeError\u001b[0m                            Traceback (most recent call last)",
      "Cell \u001b[0;32mIn[5], line 2\u001b[0m\n\u001b[1;32m      1\u001b[0m \u001b[38;5;66;03m# 輝度値の違うマスク画像から輝度分布を取得\u001b[39;00m\n\u001b[0;32m----> 2\u001b[0m plt\u001b[38;5;241m.\u001b[39mhist(\u001b[43mcv2_mask\u001b[49m\u001b[38;5;241;43m.\u001b[39;49m\u001b[43mravel\u001b[49m(), bins\u001b[38;5;241m=\u001b[39m\u001b[38;5;241m256\u001b[39m, \u001b[38;5;28mrange\u001b[39m\u001b[38;5;241m=\u001b[39m(\u001b[38;5;241m0\u001b[39m, \u001b[38;5;241m255\u001b[39m))\n\u001b[1;32m      3\u001b[0m plt\u001b[38;5;241m.\u001b[39mshow()\n",
      "\u001b[0;31mAttributeError\u001b[0m: 'NoneType' object has no attribute 'ravel'"
     ]
    }
   ],
   "source": [
    "# 輝度値の違うマスク画像から輝度分布を取得\n",
    "plt.hist(cv2_mask.ravel(), bins=256, range=(0, 255))\n",
    "plt.show()\n"
   ]
  },
  {
   "cell_type": "code",
   "execution_count": null,
   "metadata": {},
   "outputs": [],
   "source": [
    "# 指定輝度値の範囲を設定\n",
    "lower_limit = 0  # 適切な値に変更\n",
    "upper_limit = 255  # 適切な値に変更"
   ]
  },
  {
   "cell_type": "code",
   "execution_count": null,
   "metadata": {},
   "outputs": [],
   "source": [
    "# 指定輝度値の範囲に対応するROIを作成し、切り抜く\n",
    "brightness = []\n",
    "for threshold in range(lower_limit, upper_limit + 1):\n",
    "    if i in cv2_mask:\n",
    "        brightness.append(i)\n",
    "        _, binary_image = cv2.threshold(cv2_mask, threshold, 255, cv2.THRESH_BINARY)\n",
    "        contours, _ = cv2.findContours(binary_image, cv2.RETR_EXTERNAL, cv2.CHAIN_APPROX_SIMPLE)\n",
    "\n",
    "        for contour in contours:\n",
    "            # ROIを作成\n",
    "            x, y, w, h = cv2.boundingRect(contour)\n",
    "            roi = cv2_img[y:y+h, x:x+w]\n",
    "\n",
    "            # ROIの重心を計算\n",
    "            M = cv2.moments(contour)\n",
    "            cx = int(M['m10'] / M['m00'])\n",
    "            cy = int(M['m01'] / M['m00'])\n",
    "\n",
    "            # 重心から+/- 100 ピクセルの正方形領域を切り抜く\n",
    "            size = 150\n",
    "            crop_region = cv2_img[cy-size:cy+size, cx-size:cx+size]\n",
    "\n",
    "            # 切り抜いた領域を保存などの処理\n",
    "            cv2.imwrite(os.path.join(path_base, \"crop_img001\", 'crop_region.tif', crop_region)\n",
    "            \n",
    "            # デバッグ用に表示\n",
    "            plt.figure()\n",
    "            plt.subplot(131), plt.imshow(roi, cmap='gray'), plt.title('ROI')\n",
    "            plt.subplot(132), plt.imshow(image, cmap='gray'), plt.title('Original Image')\n",
    "            plt.subplot(133), plt.imshow(crop_region, cmap='gray'), plt.title('Cropped Region')\n",
    "            plt.show()"
   ]
  }
 ],
 "metadata": {
  "kernelspec": {
   "display_name": "cellpose",
   "language": "python",
   "name": "python3"
  },
  "language_info": {
   "codemirror_mode": {
    "name": "ipython",
    "version": 3
   },
   "file_extension": ".py",
   "mimetype": "text/x-python",
   "name": "python",
   "nbconvert_exporter": "python",
   "pygments_lexer": "ipython3",
   "version": "3.8.12"
  }
 },
 "nbformat": 4,
 "nbformat_minor": 2
}
