{
 "cells": [
  {
   "cell_type": "markdown",
   "metadata": {},
   "source": [
    "# Please Read this document before you start to use this script.\n",
    "https://py.imagej.net/en/latest/Headless.html#using-pyimagej-with-xvfb\n",
    "\n",
    "#### execute following command before run this notebook\n",
    "```bash\n",
    "sudo apt install xvfb\n",
    "exprot DISPLAY=:1\n",
    "Xvfb $DISPLAY -screen 0 1400x900x16 &\n",
    "```"
   ]
  },
  {
   "cell_type": "markdown",
   "metadata": {},
   "source": []
  },
  {
   "cell_type": "code",
   "execution_count": 1,
   "metadata": {},
   "outputs": [
    {
     "name": "stdout",
     "output_type": "stream",
     "text": [
      "ImageJ version: 2.15.0/1.54f\n"
     ]
    }
   ],
   "source": [
    "import os\n",
    "import subprocess\n",
    "from glob import glob\n",
    "import matplotlib.pyplot as plt\n",
    "# ライブラリのインポート\n",
    "import imagej\n",
    "# ゲートウェイを作成する\n",
    "ij = imagej.init(mode='interactive')\n",
    "\n",
    "import numpy as np\n",
    "import scyjava as sj\n",
    "sj.config.add_options('-Xmx6g')\n",
    "\n",
    "print(f\"ImageJ version: {ij.getVersion()}\")"
   ]
  },
  {
   "cell_type": "code",
   "execution_count": 2,
   "metadata": {},
   "outputs": [],
   "source": [
    "path_to_indir =  \"/mnt/g/20231120_thuneder_YSIY1475_withoutIAA_withIAA-at0hr_withIAA-at6hr_sporulation-ratio/Project001_YSIY1475_withIAA_at0hr_sporatio\""
   ]
  },
  {
   "cell_type": "code",
   "execution_count": 32,
   "metadata": {},
   "outputs": [
    {
     "data": {
      "text/plain": [
       "['/mnt/g/20231120_thuneder_YSIY1475_withoutIAA_withIAA-at0hr_withIAA-at6hr_sporulation-ratio/Project001_YSIY1475_withIAA_at0hr_sporatio/Image001_ch02_rois.zip',\n",
       " '/mnt/g/20231120_thuneder_YSIY1475_withoutIAA_withIAA-at0hr_withIAA-at6hr_sporulation-ratio/Project001_YSIY1475_withIAA_at0hr_sporatio/Image002_ch02_rois.zip',\n",
       " '/mnt/g/20231120_thuneder_YSIY1475_withoutIAA_withIAA-at0hr_withIAA-at6hr_sporulation-ratio/Project001_YSIY1475_withIAA_at0hr_sporatio/Image003_ch02_rois.zip',\n",
       " '/mnt/g/20231120_thuneder_YSIY1475_withoutIAA_withIAA-at0hr_withIAA-at6hr_sporulation-ratio/Project001_YSIY1475_withIAA_at0hr_sporatio/Image004_ch02_rois.zip']"
      ]
     },
     "execution_count": 32,
     "metadata": {},
     "output_type": "execute_result"
    }
   ],
   "source": [
    "list_of_rois"
   ]
  },
  {
   "cell_type": "code",
   "execution_count": 4,
   "metadata": {},
   "outputs": [
    {
     "name": "stderr",
     "output_type": "stream",
     "text": [
      "Operating in headless mode - the original ImageJ will have limited functionality.\n",
      "Macro Error: Undefined identifier in line 1\n",
      " \n",
      "var ; initializeSciJavaParameters ( ) ; <Open> ( \"/mnt/g/20231120_thuneder_YSIY1475_withoutIAA_withIAA-at0hr_withIAA-at...[java.lang.Enum.toString] Macro Error: Undefined identifier in line 1\n",
      " \n",
      "var ; initializeSciJavaParameters ( ) ; <Open> ( \"/mnt/g/20231120_thuneder_YSIY1475_withoutIAA_withIAA-at0hr_withIAA-at...\n",
      "[java.lang.Enum.toString] \n"
     ]
    },
    {
     "data": {
      "text/plain": [
       "<java object 'org.scijava.script.ScriptModule'>"
      ]
     },
     "execution_count": 4,
     "metadata": {},
     "output_type": "execute_result"
    }
   ],
   "source": [
    "# Open the ROI\n",
    "ij.py.run_macro(\"\"\"Open(\"{0}\");\"\"\".format(list_of_rois[0]))\n",
    "\n"
   ]
  },
  {
   "cell_type": "code",
   "execution_count": 5,
   "metadata": {},
   "outputs": [
    {
     "name": "stdout",
     "output_type": "stream",
     "text": [
      "java.awt.HeadlessException\n",
      "\tat java.desktop/java.awt.GraphicsEnvironment.checkHeadless(GraphicsEnvironment.java:208)\n",
      "\tat java.desktop/java.awt.Window.<init>(Window.java:549)\n",
      "\tat java.desktop/java.awt.Frame.<init>(Frame.java:423)\n",
      "\tat ij.plugin.frame.PlugInFrame.<init>(PlugInFrame.java:13)\n",
      "\tat ij.plugin.frame.RoiManager.<init>(RoiManager.java:108)\n",
      "\tat ij.macro.Interpreter.getBatchModeRoiManager(Interpreter.java:2283)\n",
      "\tat ij.plugin.frame.RoiManager.getInstance(RoiManager.java:2084)\n",
      "\tat ij.macro.Functions.roiManager(Functions.java:3104)\n",
      "\tat ij.macro.Functions.getFunctionValue(Functions.java:234)\n",
      "\tat ij.macro.Interpreter.getFactor(Interpreter.java:1633)\n",
      "\tat ij.macro.Interpreter.getTerm(Interpreter.java:1601)\n",
      "\tat ij.macro.Interpreter.getExpression(Interpreter.java:1584)\n",
      "\tat ij.macro.Interpreter.getBooleanExpression(Interpreter.java:1169)\n",
      "\tat ij.macro.Interpreter.getLogicalExpression(Interpreter.java:1142)\n",
      "\tat ij.macro.Interpreter.getAssignmentExpression(Interpreter.java:1301)\n",
      "\tat ij.macro.Interpreter.getAssignmentExpression(Interpreter.java:1286)\n",
      "\tat ij.macro.Interpreter.doAssignment(Interpreter.java:840)\n",
      "\tat ij.macro.Interpreter.doStatement(Interpreter.java:299)\n",
      "\tat ij.macro.Interpreter.doStatements(Interpreter.java:267)\n",
      "\tat ij.macro.Interpreter.run(Interpreter.java:163)\n",
      "\tat ij.macro.Interpreter.run(Interpreter.java:93)\n",
      "\tat ij.macro.Interpreter.run(Interpreter.java:107)\n",
      "\tat ij.plugin.Macro_Runner.runMacro(Macro_Runner.java:164)\n",
      "\tat ij.IJ.runMacro(IJ.java:165)\n",
      "\tat ij.IJ.runMacro(IJ.java:154)\n",
      "\tat net.imagej.legacy.IJ1Helper$3.call(IJ1Helper.java:1186)\n",
      "\tat net.imagej.legacy.IJ1Helper$3.call(IJ1Helper.java:1182)\n",
      "\tat net.imagej.legacy.IJ1Helper.runMacroFriendly(IJ1Helper.java:1133)\n",
      "\tat net.imagej.legacy.IJ1Helper.runMacro(IJ1Helper.java:1182)\n",
      "\tat net.imagej.legacy.plugin.IJ1MacroEngine.eval(IJ1MacroEngine.java:145)\n",
      "\tat org.scijava.script.ScriptModule.run(ScriptModule.java:173)\n",
      "\tat org.scijava.module.ModuleRunner.run(ModuleRunner.java:165)\n",
      "\tat org.scijava.module.ModuleRunner.call(ModuleRunner.java:125)\n",
      "\tat org.scijava.module.ModuleRunner.call(ModuleRunner.java:64)\n",
      "\tat org.scijava.thread.DefaultThreadService.lambda$wrap$2(DefaultThreadService.java:247)\n",
      "\tat java.base/java.util.concurrent.FutureTask.run(FutureTask.java:264)\n",
      "\tat java.base/java.util.concurrent.ThreadPoolExecutor.runWorker(ThreadPoolExecutor.java:1128)\n",
      "\tat java.base/java.util.concurrent.ThreadPoolExecutor$Worker.run(ThreadPoolExecutor.java:628)\n",
      "\tat java.base/java.lang.Thread.run(Thread.java:829)\n",
      "\n",
      "None\n"
     ]
    },
    {
     "name": "stderr",
     "output_type": "stream",
     "text": [
      "[java.lang.Enum.toString] java.awt.HeadlessException\n",
      "\tat java.desktop/java.awt.GraphicsEnvironment.checkHeadless(GraphicsEnvironment.java:208)\n",
      "\tat java.desktop/java.awt.Window.<init>(Window.java:549)\n",
      "\tat java.desktop/java.awt.Frame.<init>(Frame.java:423)\n",
      "\tat ij.plugin.frame.PlugInFrame.<init>(PlugInFrame.java:13)\n",
      "\tat ij.plugin.frame.RoiManager.<init>(RoiManager.java:108)\n",
      "\tat ij.macro.Interpreter.getBatchModeRoiManager(Interpreter.java:2283)\n",
      "\tat ij.plugin.frame.RoiManager.getInstance(RoiManager.java:2084)\n",
      "\tat ij.macro.Functions.roiManager(Functions.java:3104)\n",
      "\tat ij.macro.Functions.getFunctionValue(Functions.java:234)\n",
      "\tat ij.macro.Interpreter.getFactor(Interpreter.java:1633)\n",
      "\tat ij.macro.Interpreter.getTerm(Interpreter.java:1601)\n",
      "\tat ij.macro.Interpreter.getExpression(Interpreter.java:1584)\n",
      "\tat ij.macro.Interpreter.getBooleanExpression(Interpreter.java:1169)\n",
      "\tat ij.macro.Interpreter.getLogicalExpression(Interpreter.java:1142)\n",
      "\tat ij.macro.Interpreter.getAssignmentExpression(Interpreter.java:1301)\n",
      "\tat ij.macro.Interpreter.getAssignmentExpression(Interpreter.java:1286)\n",
      "\tat ij.macro.Interpreter.doAssignment(Interpreter.java:840)\n",
      "\tat ij.macro.Interpreter.doStatement(Interpreter.java:299)\n",
      "\tat ij.macro.Interpreter.doStatements(Interpreter.java:267)\n",
      "\tat ij.macro.Interpreter.run(Interpreter.java:163)\n",
      "\tat ij.macro.Interpreter.run(Interpreter.java:93)\n",
      "\tat ij.macro.Interpreter.run(Interpreter.java:107)\n",
      "\tat ij.plugin.Macro_Runner.runMacro(Macro_Runner.java:164)\n",
      "\tat ij.IJ.runMacro(IJ.java:165)\n",
      "\tat ij.IJ.runMacro(IJ.java:154)\n",
      "\tat net.imagej.legacy.IJ1Helper$3.call(IJ1Helper.java:1186)\n",
      "\tat net.imagej.legacy.IJ1Helper$3.call(IJ1Helper.java:1182)\n",
      "\tat net.imagej.legacy.IJ1Helper.runMacroFriendly(IJ1Helper.java:1133)\n",
      "\tat net.imagej.legacy.IJ1Helper.runMacro(IJ1Helper.java:1182)\n",
      "\tat net.imagej.legacy.plugin.IJ1MacroEngine.eval(IJ1MacroEngine.java:145)\n",
      "\tat org.scijava.script.ScriptModule.run(ScriptModule.java:173)\n",
      "\tat org.scijava.module.ModuleRunner.run(ModuleRunner.java:165)\n",
      "\tat org.scijava.module.ModuleRunner.call(ModuleRunner.java:125)\n",
      "\tat org.scijava.module.ModuleRunner.call(ModuleRunner.java:64)\n",
      "\tat org.scijava.thread.DefaultThreadService.lambda$wrap$2(DefaultThreadService.java:247)\n",
      "\tat java.base/java.util.concurrent.FutureTask.run(FutureTask.java:264)\n",
      "\tat java.base/java.util.concurrent.ThreadPoolExecutor.runWorker(ThreadPoolExecutor.java:1128)\n",
      "\tat java.base/java.util.concurrent.ThreadPoolExecutor$Worker.run(ThreadPoolExecutor.java:628)\n",
      "\tat java.base/java.lang.Thread.run(Thread.java:829)\n",
      "[java.lang.Enum.toString] \n"
     ]
    }
   ],
   "source": [
    "# Get the number of ROIs\n",
    "num_of_rois = ij.py.run_macro(\"\"\"\n",
    "                              n = roiManager(\"count\");\n",
    "                              \"\"\")\n",
    "print(num_of_rois.getOutput('n'))"
   ]
  },
  {
   "cell_type": "code",
   "execution_count": 7,
   "metadata": {},
   "outputs": [],
   "source": [
    "list_of_rois = glob(os.path.join(path_to_indir, \"*_ch02_rois.zip\"))\n",
    "list_of_rois.sort()"
   ]
  },
  {
   "cell_type": "code",
   "execution_count": 24,
   "metadata": {},
   "outputs": [
    {
     "ename": "TypeError",
     "evalue": "int() argument must be a string, a bytes-like object or a number, not 'NoneType'",
     "output_type": "error",
     "traceback": [
      "\u001b[0;31m---------------------------------------------------------------------------\u001b[0m",
      "\u001b[0;31mTypeError\u001b[0m                                 Traceback (most recent call last)",
      "Cell \u001b[0;32mIn[24], line 1\u001b[0m\n\u001b[0;32m----> 1\u001b[0m num_of_rois \u001b[38;5;241m=\u001b[39m \u001b[38;5;28;43mint\u001b[39;49m\u001b[43m(\u001b[49m\u001b[43mnum_of_rois\u001b[49m\u001b[38;5;241;43m.\u001b[39;49m\u001b[43mgetOutput\u001b[49m\u001b[43m(\u001b[49m\u001b[38;5;124;43m'\u001b[39;49m\u001b[38;5;124;43mn\u001b[39;49m\u001b[38;5;124;43m'\u001b[39;49m\u001b[43m)\u001b[49m\u001b[43m)\u001b[49m\n\u001b[1;32m      2\u001b[0m \u001b[38;5;66;03m# Redの画像を聞く\u001b[39;00m\n\u001b[1;32m      3\u001b[0m ij\u001b[38;5;241m.\u001b[39mpy\u001b[38;5;241m.\u001b[39mrun_macro(\u001b[38;5;124m\"\"\"\u001b[39m\u001b[38;5;124mrun(\u001b[39m\u001b[38;5;124m\"\u001b[39m\u001b[38;5;124mOpen...\u001b[39m\u001b[38;5;124m\"\u001b[39m\u001b[38;5;124m, \u001b[39m\u001b[38;5;124m\"\u001b[39m\u001b[38;5;124mpath=\u001b[39m\u001b[38;5;132;01m{0}\u001b[39;00m\u001b[38;5;124m\"\u001b[39m\u001b[38;5;124m);\u001b[39m\u001b[38;5;124m\"\"\"\u001b[39m\u001b[38;5;241m.\u001b[39mformat(list_of_red_imgs[i_img]))\n",
      "\u001b[0;31mTypeError\u001b[0m: int() argument must be a string, a bytes-like object or a number, not 'NoneType'"
     ]
    }
   ],
   "source": [
    "num_of_rois = int(num_of_rois.getOutput('n'))\n",
    "# Redの画像を聞く\n",
    "ij.py.run_macro(\"\"\"run(\"Open...\", \"path={0}\");\"\"\".format(list_of_red_imgs[i_img]))"
   ]
  },
  {
   "cell_type": "code",
   "execution_count": 39,
   "metadata": {},
   "outputs": [
    {
     "ename": "AttributeError",
     "evalue": "'org.scijava.script.ScriptModule' object has no attribute 'split'",
     "output_type": "error",
     "traceback": [
      "\u001b[0;31m---------------------------------------------------------------------------\u001b[0m",
      "\u001b[0;31mAttributeError\u001b[0m                            Traceback (most recent call last)",
      "Cell \u001b[0;32mIn[39], line 46\u001b[0m\n\u001b[1;32m     42\u001b[0m \u001b[38;5;66;03m# Get the centroid of the ROI\u001b[39;00m\n\u001b[1;32m     43\u001b[0m centroid \u001b[38;5;241m=\u001b[39m ij\u001b[38;5;241m.\u001b[39mpy\u001b[38;5;241m.\u001b[39mrun_macro(\u001b[38;5;124m\"\"\"\u001b[39m\u001b[38;5;124mrun(\u001b[39m\u001b[38;5;124m\"\u001b[39m\u001b[38;5;124mSet Measurements...\u001b[39m\u001b[38;5;124m\"\u001b[39m\u001b[38;5;124m, \u001b[39m\u001b[38;5;124m\"\u001b[39m\u001b[38;5;124marea mean centroid redirect=None decimal=3\u001b[39m\u001b[38;5;124m\"\u001b[39m\u001b[38;5;124m);\u001b[39m\n\u001b[1;32m     44\u001b[0m \u001b[38;5;124m                            run(\u001b[39m\u001b[38;5;124m\"\u001b[39m\u001b[38;5;124mMeasure\u001b[39m\u001b[38;5;124m\"\u001b[39m\u001b[38;5;124m);\u001b[39m\n\u001b[1;32m     45\u001b[0m \u001b[38;5;124m                            getResultsString();\u001b[39m\u001b[38;5;124m\"\"\"\u001b[39m)\n\u001b[0;32m---> 46\u001b[0m centroid \u001b[38;5;241m=\u001b[39m \u001b[43mcentroid\u001b[49m\u001b[38;5;241;43m.\u001b[39;49m\u001b[43msplit\u001b[49m(\u001b[38;5;124m\"\u001b[39m\u001b[38;5;130;01m\\n\u001b[39;00m\u001b[38;5;124m\"\u001b[39m)[\u001b[38;5;241m1\u001b[39m]\u001b[38;5;241m.\u001b[39msplit(\u001b[38;5;124m\"\u001b[39m\u001b[38;5;130;01m\\t\u001b[39;00m\u001b[38;5;124m\"\u001b[39m)  \u001b[38;5;66;03m# The centroid is in the second line of the results string\u001b[39;00m\n\u001b[1;32m     47\u001b[0m x_centroid \u001b[38;5;241m=\u001b[39m \u001b[38;5;28mfloat\u001b[39m(centroid[\u001b[38;5;241m2\u001b[39m])  \u001b[38;5;66;03m# The x-coordinate of the centroid is the third column\u001b[39;00m\n\u001b[1;32m     48\u001b[0m y_centroid \u001b[38;5;241m=\u001b[39m \u001b[38;5;28mfloat\u001b[39m(centroid[\u001b[38;5;241m3\u001b[39m])  \u001b[38;5;66;03m# The y-coordinate of the centroid is the fourth column\u001b[39;00m\n",
      "\u001b[0;31mAttributeError\u001b[0m: 'org.scijava.script.ScriptModule' object has no attribute 'split'"
     ]
    }
   ],
   "source": [
    "list_of_rois = glob(os.path.join(path_to_indir, \"*_ch02_rois.zip\"))\n",
    "list_of_rois.sort()\n",
    "\n",
    "list_of_red_imgs = glob(os.path.join(path_to_indir, \"*_ch01.tif\"))\n",
    "list_of_red_imgs.sort()\n",
    "\n",
    "list_of_green_imgs = glob(os.path.join(path_to_indir, \"*_ch00.tif\"))\n",
    "list_of_green_imgs.sort()\n",
    "\n",
    "list_of_mrg_imgs = glob(os.path.join(path_to_indir, r\"image\\d{3}\\.tif\"))\n",
    "list_of_mrg_imgs.sort()\n",
    "\n",
    "num_of_imgs = len(list_of_rois)\n",
    "\n",
    "size_of_ractangle = 180\n",
    "\n",
    "for i_img in range(num_of_imgs):\n",
    "    # Open the ROI\n",
    "    ij.py.run_macro(\"\"\"run(\"Open...\", \"path={0}\");\"\"\".format(list_of_rois[i_img]))\n",
    "    macro001 = \"\"\"\n",
    "    #@ output Object roiCount\n",
    "    run(\"Select All\");\n",
    "    run(\"Measure\");\n",
    "    saveAs(\"Results\", \"tmp/Measure.csv\")\n",
    "    \"\"\"\n",
    "    read_csv = os.path.join(path_to_indir, \"tmp\", \"Measure.csv\")\n",
    "    \n",
    "    result = ij.py.run_macro(macro001)\n",
    "    num_of_rois = result.getOutput('roiCount') \n",
    "    num_of_rois = 4\n",
    "    \n",
    "    # Redの画像を聞く\n",
    "    ij.py.run_macro(\"\"\"run(\"Open...\", \"path={0}\");\"\"\".format(list_of_red_imgs[i_img]))\n",
    "\n",
    "    # Make a outdir for cropped images\n",
    "    os.path.basename(list_of_red_imgs[i_img]).split(\".\")[0]\n",
    "    os.makedirs(os.path.join(path_to_indir, os.path.basename(list_of_red_imgs[i_img]).split(\".\")[0]), exist_ok=True)\n",
    "    path_to_outdir = os.path.join(path_to_indir, os.path.basename(list_of_red_imgs[i_img]).split(\".\")[0])\n",
    "    \n",
    "    for i_roi in range(num_of_rois):\n",
    "        # Select the ROI\n",
    "        ij.py.run_macro(\"\"\"roiManager(\"Select\", {0});\"\"\".format(i_roi))\n",
    "        \n",
    "        # Get the centroid of the ROI\n",
    "        ij.py.run_macro(\"\"\"run(\"Set Measurements...\", \"area mean centroid redirect=None decimal=3\");\"\"\")\n",
    "        # Get the centroid of the ROI\n",
    "        centroid = ij.py.run_macro(\"\"\"run(\"Set Measurements...\", \"area mean centroid redirect=None decimal=3\");\n",
    "                                    run(\"Measure\");\n",
    "                                    getResultsString();\"\"\")\n",
    "        centroid = centroid.split(\"\\n\")[1].split(\"\\t\")  # The centroid is in the second line of the results string\n",
    "        x_centroid = float(centroid[2])  # The x-coordinate of the centroid is the third column\n",
    "        y_centroid = float(centroid[3])  # The y-coordinate of the centroid is the fourth column\n",
    "        # Select a square region around the centroid\n",
    "        ij.py.run_macro(\"\"\"makeRectangle({0}, {1}, {3}, {4});\"\"\".format(x_centroid, y_centroid, size_of_ractangle,size_of_ractangle))\n",
    "        \n",
    "        # Crop the image\n",
    "        ij.py.run_macro(\"\"\"run(\"Duplicate...\", \"title=square_roi_{0}_{1}.tif\");\"\"\".format(i_img, i_roi))\n",
    "        \n",
    "        # Save the cropped image\n",
    "        ij.py.run_macro(\"\"\"saveAs(\"Tiff\", \"{0}}/square_roi_{1}_{2}.tif\");\"\"\".format(path_to_outdir, i_img, i_roi))\n",
    "\n",
    "    # Close all images\n",
    "    ij.py.run_macro(\"\"\"run(\"Close All\");\"\"\")\n",
    "\n",
    "\n"
   ]
  },
  {
   "cell_type": "markdown",
   "metadata": {},
   "source": []
  },
  {
   "cell_type": "code",
   "execution_count": 48,
   "metadata": {},
   "outputs": [
    {
     "data": {
      "text/plain": [
       "<java object 'org.scijava.script.ScriptModule'>"
      ]
     },
     "execution_count": 48,
     "metadata": {},
     "output_type": "execute_result"
    }
   ],
   "source": [
    "ij.py.run_macro(\"\"\"run(\"Open...\", \"path={0}\");\"\"\".format(list_of_rois[0]))\n"
   ]
  },
  {
   "cell_type": "code",
   "execution_count": 49,
   "metadata": {},
   "outputs": [],
   "source": [
    "macro001 = \"\"\"\n",
    "#@ output Object roiCount\n",
    "#@ String path_to_indir\n",
    "\n",
    "//indirの中にある画像を開く\n",
    "File.makeDirectory(path_to_indir + \"croped\");\n",
    "out_dir = path_to_indir + \"croped\";\n",
    "\n",
    "//拡張子が.zipのROIのファイルリストを取得\n",
    "list_of_rois = getFileList(path_to_indir);\n",
    "list_of_rois = Array.sort(list_of_rois);\n",
    "list_of_rois = Array.filter(list_of_rois, function(x)endsWith(x, \".zip\"));\n",
    "num_of_rois = list_of_rois.length;\n",
    "\n",
    "//redの画像のファイルリストを取得するために*ch01.tifのファイルリストを取得\n",
    "list_of_red_imgs = getFileList(path_to_indir);\n",
    "list_of_red_imgs = Array.sort(list_of_red_imgs);\n",
    "list_of_red_imgs = Array.filter(list_of_red_imgs, function(x)endsWith(x, \"_ch01.tif\"));\n",
    "num_of_imgs = list_of_red_imgs.length;\n",
    "\n",
    "//greenの画像のファイルリストを取得するために*ch00.tifのファイルリストを取得\n",
    "list_of_green_imgs = getFileList(path_to_indir);\n",
    "list_of_green_imgs = Array.sort(list_of_green_imgs);\n",
    "list_of_green_imgs = Array.filter(list_of_green_imgs, function(x)endsWith(x, \"_ch00.tif\"));\n",
    "num_of_imgs = list_of_green_imgs.length;\n",
    "\n",
    "//roiのファイルの数だけ繰り返す\n",
    "for (i = 0; i < num_of_rois; i++) {\n",
    "    // Open the ROI\n",
    "    run(\"Open...\", \"path=\" + path_to_indir + list_of_rois[i]);\n",
    "    \n",
    "    // Get the number of ROIs\n",
    "    n = roiManager(\"count\");\n",
    "    \n",
    "    // Redの画像を聞く\n",
    "    run(\"Open...\", \"path=\" + path_to_indir + list_of_red_imgs[i_img]);\n",
    "    \n",
    "    // Make a outdir for cropped images\n",
    "    out_dir = path_to_indir + \"croped_\" +list_of_red_imgs[i_img].split(\".\")[0];\n",
    "    \n",
    "    // Select the ROI\n",
    "    roiManager(\"Select\", i);\n",
    "    // Get the centroid of the ROI\n",
    "    run(\"Set Measurements...\", \"area mean centroid redirect=None decimal=3\");\n",
    "    // Get the centroid of the ROI\n",
    "    run(\"Measure\");\n",
    "    getResultsString();\n",
    "    centroid = getResult(\"Centroid\").split(\"\\t\");\n",
    "    x_centroid = parseFloat(centroid[2]);\n",
    "    y_centroid = parseFloat(centroid[3]);\n",
    "    // Select a square region around the centroid\n",
    "    makeRectangle(x_centroid, y_centroid, size_of_ractangle, size_of_ractangle);\n",
    "    // Crop the image\n",
    "    run(\"Duplicate...\", \"title=square_roi_\" + i_img + \"_\" + i + \".tif\");\n",
    "    // Save the cropped image\n",
    "    saveAs(\"Tiff\", out_dir + \"/square_roi_\" + i_img + \"_\" + i + \".tif\");\n",
    "    // Close all images\n",
    "    run(\"Close All\");\n",
    "}\n",
    "\n",
    "//set crop size\n",
    "size_of_ractangle = 180;\n",
    "\n",
    "\n",
    "\n",
    "\n",
    "\n",
    "\n",
    "run(\"Select All\");\n",
    "roiManager(\"Measure\");\n",
    "path_to_csv = path_to_indir + \"Results.csv\";\n",
    "saveAs(\"Results\", path_to_csv);\n",
    "\"\"\"\n",
    "args = {\n",
    "    'path_to_indir': path_to_indir\n",
    "}\n",
    "result = ij.py.run_macro(macro001, args)"
   ]
  },
  {
   "cell_type": "code",
   "execution_count": 3,
   "metadata": {},
   "outputs": [
    {
     "name": "stderr",
     "output_type": "stream",
     "text": [
      "[WARNING] Unmatched input: city\n",
      "[java.lang.Enum.toString] [WARNING] Unmatched input: city\n",
      "[WARNING] Unmatched input: name\n",
      "[java.lang.Enum.toString] [WARNING] Unmatched input: name\n",
      "[WARNING] Unmatched input: age\n",
      "[java.lang.Enum.toString] [WARNING] Unmatched input: age\n"
     ]
    },
    {
     "name": "stdout",
     "output_type": "stream",
     "text": [
      "None\n"
     ]
    }
   ],
   "source": [
    "macro = \"\"\"\n",
    "\n",
    "greeting = \"Hello \" + name + \". You are \" + age + \" years old, and live in \" + city + \".\"\n",
    "\"\"\"\n",
    "args = {\n",
    "    'name': 'Chuckles',\n",
    "    'age': 13,\n",
    "    'city': 'Nowhere'\n",
    "}\n",
    "result = ij.py.run_macro(macro, args)\n",
    "print(result.getOutput('greeting'))"
   ]
  },
  {
   "cell_type": "markdown",
   "metadata": {},
   "source": [
    "https://py.imagej.net/en/latest/05-Convenience-methods-of-PyImageJ.html\n",
    "によると<br>\n",
    "Note the warnings! We’re currently in headless mode. The many legacy ImageJ functions operate limitedly or not at all in headless mode. For example the RoiManager is not functional in a true headless enviornment.\n",
    "\n",
    "対処方法\n",
    "Please note: Not all original ImageJ functions are accessible while headless: e.g., many methods of RoiManager and WindowManager do not work without a graphical environment. To work around this limitation, you can use Xvfb to run ImageJ inside a “virtual” graphical environment without a physical screen present.\n",
    "https://py.imagej.net/en/latest/Headless.html#using-pyimagej-with-xvfb\n"
   ]
  },
  {
   "cell_type": "code",
   "execution_count": 27,
   "metadata": {},
   "outputs": [
    {
     "name": "stdout",
     "output_type": "stream",
     "text": [
      "<java class 'ij.plugin.frame.RoiManager'>\n"
     ]
    }
   ],
   "source": [
    "print(ij.RoiManager)"
   ]
  },
  {
   "cell_type": "code",
   "execution_count": 36,
   "metadata": {},
   "outputs": [],
   "source": [
    "macro = \"\"\"\n",
    "#@ output Object roiCount\n",
    "roiCount = roiManager(\"count\")\n",
    "\"\"\"\n",
    "result = ij.py.run_macro(macro)\n",
    "num_of_rois = int(result.getOutput('roiCount')) \n",
    "# print(result.getOutput('roiCount'))"
   ]
  },
  {
   "cell_type": "code",
   "execution_count": 37,
   "metadata": {},
   "outputs": [
    {
     "data": {
      "text/plain": [
       "95"
      ]
     },
     "execution_count": 37,
     "metadata": {},
     "output_type": "execute_result"
    }
   ],
   "source": [
    "num_of_rois"
   ]
  }
 ],
 "metadata": {
  "kernelspec": {
   "display_name": "cellpose",
   "language": "python",
   "name": "python3"
  },
  "language_info": {
   "codemirror_mode": {
    "name": "ipython",
    "version": 3
   },
   "file_extension": ".py",
   "mimetype": "text/x-python",
   "name": "python",
   "nbconvert_exporter": "python",
   "pygments_lexer": "ipython3",
   "version": "3.8.12"
  }
 },
 "nbformat": 4,
 "nbformat_minor": 2
}
